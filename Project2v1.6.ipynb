{
  "nbformat": 4,
  "nbformat_minor": 0,
  "metadata": {
    "colab": {
      "provenance": [],
      "authorship_tag": "ABX9TyPT7y+3KOAQGR9U6+ZS6wPn",
      "include_colab_link": true
    },
    "kernelspec": {
      "name": "python3",
      "display_name": "Python 3"
    },
    "language_info": {
      "name": "python"
    }
  },
  "cells": [
    {
      "cell_type": "markdown",
      "metadata": {
        "id": "view-in-github",
        "colab_type": "text"
      },
      "source": [
        "<a href=\"https://colab.research.google.com/github/lsmith01t/PROJECT_2/blob/main/Project2v1.6.ipynb\" target=\"_parent\"><img src=\"https://colab.research.google.com/assets/colab-badge.svg\" alt=\"Open In Colab\"/></a>"
      ]
    },
    {
      "cell_type": "code",
      "execution_count": 89,
      "metadata": {
        "id": "4aamHp77o3Ef"
      },
      "outputs": [],
      "source": [
        "import pandas as pd\n",
        "import numpy as np\n",
        "import matplotlib.pyplot as plt\n",
        "import seaborn as sns\n",
        "from sklearn.compose import make_column_selector, make_column_transformer\n",
        "from sklearn.preprocessing import StandardScaler\n",
        "from sklearn.model_selection import train_test_split\n",
        "from sklearn.preprocessing import OneHotEncoder\n",
        "from sklearn.impute import SimpleImputer\n",
        "from sklearn.pipeline import make_pipeline\n",
        "from sklearn.neighbors import KNeighborsClassifier\n",
        "from sklearn.decomposition import PCA\n",
        "from sklearn.metrics import mean_absolute_error, r2_score, mean_squared_error, \\\n",
        "precision_score, recall_score, accuracy_score, f1_score, ConfusionMatrixDisplay, \\\n",
        "classification_report\n"
      ]
    },
    {
      "cell_type": "code",
      "source": [
        "df_1 = pd.read_csv('adult.csv')\n",
        "df_1_ml = df_1.copy()"
      ],
      "metadata": {
        "id": "QjOCwieRqtJJ"
      },
      "execution_count": 90,
      "outputs": []
    },
    {
      "cell_type": "code",
      "source": [
        "def eval_classification(true, pred, name='Model'):\n",
        "  \"\"\"shows classification_report and confusion matrix\n",
        "  for the model predictions\"\"\"\n",
        "  \n",
        "  print(name, '\\n')\n",
        "  print(classification_report(true, pred))\n",
        "  ConfusionMatrixDisplay.from_predictions(true, pred)\n",
        "  plt.show()\n",
        "\n",
        "  scores = pd.DataFrame()\n",
        "  scores['Model Name'] = [name]\n",
        "  scores['Precision'] = [precision_score(true, pred)]\n",
        "  scores['Recall'] = [recall_score(true, pred)]\n",
        "  scores['F1 Score'] = [f1_score(true, pred)]\n",
        "  scores['Accuracy'] = [accuracy_score(true, pred)]\n",
        "\n",
        "  return scores"
      ],
      "metadata": {
        "id": "XqXfGh_oBjyy"
      },
      "execution_count": 134,
      "outputs": []
    },
    {
      "cell_type": "markdown",
      "source": [
        "#Data Set 1 Adult Income Dataset\n",
        "\n",
        "## 1.This data was obtained from Kaggles website. \n",
        "The data source can be located here: https://www.kaggle.com/datasets/wenruliu/adult-income-dataset\n",
        "\n",
        "Acknowledgements:\n",
        "This dataset named “adult” is found in the UCI machine learning repository\n",
        "http://www.cs.toronto.edu/~delve/data/adult/desc.html\n",
        "\n",
        "##2.The target of my project will be to predict if the income of each person is in one of two classes. Greater than 50K or not.  \n",
        " "
      ],
      "metadata": {
        "id": "fUYWlWgZp0QE"
      }
    },
    {
      "cell_type": "code",
      "source": [
        "df_1_ml.head()"
      ],
      "metadata": {
        "colab": {
          "base_uri": "https://localhost:8080/",
          "height": 206
        },
        "id": "BAh0lnhuqoex",
        "outputId": "45cf78aa-7310-4d9f-e804-9f11e966deb2"
      },
      "execution_count": 92,
      "outputs": [
        {
          "output_type": "execute_result",
          "data": {
            "text/plain": [
              "   age  workclass  fnlwgt     education  educational-num      marital-status  \\\n",
              "0   25    Private  226802          11th                7       Never-married   \n",
              "1   38    Private   89814       HS-grad                9  Married-civ-spouse   \n",
              "2   28  Local-gov  336951    Assoc-acdm               12  Married-civ-spouse   \n",
              "3   44    Private  160323  Some-college               10  Married-civ-spouse   \n",
              "4   18          ?  103497  Some-college               10       Never-married   \n",
              "\n",
              "          occupation relationship   race  gender  capital-gain  capital-loss  \\\n",
              "0  Machine-op-inspct    Own-child  Black    Male             0             0   \n",
              "1    Farming-fishing      Husband  White    Male             0             0   \n",
              "2    Protective-serv      Husband  White    Male             0             0   \n",
              "3  Machine-op-inspct      Husband  Black    Male          7688             0   \n",
              "4                  ?    Own-child  White  Female             0             0   \n",
              "\n",
              "   hours-per-week native-country income  \n",
              "0              40  United-States  <=50K  \n",
              "1              50  United-States  <=50K  \n",
              "2              40  United-States   >50K  \n",
              "3              40  United-States   >50K  \n",
              "4              30  United-States  <=50K  "
            ],
            "text/html": [
              "\n",
              "  <div id=\"df-019e5ea7-e615-4f02-b86a-19248d4eac7a\">\n",
              "    <div class=\"colab-df-container\">\n",
              "      <div>\n",
              "<style scoped>\n",
              "    .dataframe tbody tr th:only-of-type {\n",
              "        vertical-align: middle;\n",
              "    }\n",
              "\n",
              "    .dataframe tbody tr th {\n",
              "        vertical-align: top;\n",
              "    }\n",
              "\n",
              "    .dataframe thead th {\n",
              "        text-align: right;\n",
              "    }\n",
              "</style>\n",
              "<table border=\"1\" class=\"dataframe\">\n",
              "  <thead>\n",
              "    <tr style=\"text-align: right;\">\n",
              "      <th></th>\n",
              "      <th>age</th>\n",
              "      <th>workclass</th>\n",
              "      <th>fnlwgt</th>\n",
              "      <th>education</th>\n",
              "      <th>educational-num</th>\n",
              "      <th>marital-status</th>\n",
              "      <th>occupation</th>\n",
              "      <th>relationship</th>\n",
              "      <th>race</th>\n",
              "      <th>gender</th>\n",
              "      <th>capital-gain</th>\n",
              "      <th>capital-loss</th>\n",
              "      <th>hours-per-week</th>\n",
              "      <th>native-country</th>\n",
              "      <th>income</th>\n",
              "    </tr>\n",
              "  </thead>\n",
              "  <tbody>\n",
              "    <tr>\n",
              "      <th>0</th>\n",
              "      <td>25</td>\n",
              "      <td>Private</td>\n",
              "      <td>226802</td>\n",
              "      <td>11th</td>\n",
              "      <td>7</td>\n",
              "      <td>Never-married</td>\n",
              "      <td>Machine-op-inspct</td>\n",
              "      <td>Own-child</td>\n",
              "      <td>Black</td>\n",
              "      <td>Male</td>\n",
              "      <td>0</td>\n",
              "      <td>0</td>\n",
              "      <td>40</td>\n",
              "      <td>United-States</td>\n",
              "      <td>&lt;=50K</td>\n",
              "    </tr>\n",
              "    <tr>\n",
              "      <th>1</th>\n",
              "      <td>38</td>\n",
              "      <td>Private</td>\n",
              "      <td>89814</td>\n",
              "      <td>HS-grad</td>\n",
              "      <td>9</td>\n",
              "      <td>Married-civ-spouse</td>\n",
              "      <td>Farming-fishing</td>\n",
              "      <td>Husband</td>\n",
              "      <td>White</td>\n",
              "      <td>Male</td>\n",
              "      <td>0</td>\n",
              "      <td>0</td>\n",
              "      <td>50</td>\n",
              "      <td>United-States</td>\n",
              "      <td>&lt;=50K</td>\n",
              "    </tr>\n",
              "    <tr>\n",
              "      <th>2</th>\n",
              "      <td>28</td>\n",
              "      <td>Local-gov</td>\n",
              "      <td>336951</td>\n",
              "      <td>Assoc-acdm</td>\n",
              "      <td>12</td>\n",
              "      <td>Married-civ-spouse</td>\n",
              "      <td>Protective-serv</td>\n",
              "      <td>Husband</td>\n",
              "      <td>White</td>\n",
              "      <td>Male</td>\n",
              "      <td>0</td>\n",
              "      <td>0</td>\n",
              "      <td>40</td>\n",
              "      <td>United-States</td>\n",
              "      <td>&gt;50K</td>\n",
              "    </tr>\n",
              "    <tr>\n",
              "      <th>3</th>\n",
              "      <td>44</td>\n",
              "      <td>Private</td>\n",
              "      <td>160323</td>\n",
              "      <td>Some-college</td>\n",
              "      <td>10</td>\n",
              "      <td>Married-civ-spouse</td>\n",
              "      <td>Machine-op-inspct</td>\n",
              "      <td>Husband</td>\n",
              "      <td>Black</td>\n",
              "      <td>Male</td>\n",
              "      <td>7688</td>\n",
              "      <td>0</td>\n",
              "      <td>40</td>\n",
              "      <td>United-States</td>\n",
              "      <td>&gt;50K</td>\n",
              "    </tr>\n",
              "    <tr>\n",
              "      <th>4</th>\n",
              "      <td>18</td>\n",
              "      <td>?</td>\n",
              "      <td>103497</td>\n",
              "      <td>Some-college</td>\n",
              "      <td>10</td>\n",
              "      <td>Never-married</td>\n",
              "      <td>?</td>\n",
              "      <td>Own-child</td>\n",
              "      <td>White</td>\n",
              "      <td>Female</td>\n",
              "      <td>0</td>\n",
              "      <td>0</td>\n",
              "      <td>30</td>\n",
              "      <td>United-States</td>\n",
              "      <td>&lt;=50K</td>\n",
              "    </tr>\n",
              "  </tbody>\n",
              "</table>\n",
              "</div>\n",
              "      <button class=\"colab-df-convert\" onclick=\"convertToInteractive('df-019e5ea7-e615-4f02-b86a-19248d4eac7a')\"\n",
              "              title=\"Convert this dataframe to an interactive table.\"\n",
              "              style=\"display:none;\">\n",
              "        \n",
              "  <svg xmlns=\"http://www.w3.org/2000/svg\" height=\"24px\"viewBox=\"0 0 24 24\"\n",
              "       width=\"24px\">\n",
              "    <path d=\"M0 0h24v24H0V0z\" fill=\"none\"/>\n",
              "    <path d=\"M18.56 5.44l.94 2.06.94-2.06 2.06-.94-2.06-.94-.94-2.06-.94 2.06-2.06.94zm-11 1L8.5 8.5l.94-2.06 2.06-.94-2.06-.94L8.5 2.5l-.94 2.06-2.06.94zm10 10l.94 2.06.94-2.06 2.06-.94-2.06-.94-.94-2.06-.94 2.06-2.06.94z\"/><path d=\"M17.41 7.96l-1.37-1.37c-.4-.4-.92-.59-1.43-.59-.52 0-1.04.2-1.43.59L10.3 9.45l-7.72 7.72c-.78.78-.78 2.05 0 2.83L4 21.41c.39.39.9.59 1.41.59.51 0 1.02-.2 1.41-.59l7.78-7.78 2.81-2.81c.8-.78.8-2.07 0-2.86zM5.41 20L4 18.59l7.72-7.72 1.47 1.35L5.41 20z\"/>\n",
              "  </svg>\n",
              "      </button>\n",
              "      \n",
              "  <style>\n",
              "    .colab-df-container {\n",
              "      display:flex;\n",
              "      flex-wrap:wrap;\n",
              "      gap: 12px;\n",
              "    }\n",
              "\n",
              "    .colab-df-convert {\n",
              "      background-color: #E8F0FE;\n",
              "      border: none;\n",
              "      border-radius: 50%;\n",
              "      cursor: pointer;\n",
              "      display: none;\n",
              "      fill: #1967D2;\n",
              "      height: 32px;\n",
              "      padding: 0 0 0 0;\n",
              "      width: 32px;\n",
              "    }\n",
              "\n",
              "    .colab-df-convert:hover {\n",
              "      background-color: #E2EBFA;\n",
              "      box-shadow: 0px 1px 2px rgba(60, 64, 67, 0.3), 0px 1px 3px 1px rgba(60, 64, 67, 0.15);\n",
              "      fill: #174EA6;\n",
              "    }\n",
              "\n",
              "    [theme=dark] .colab-df-convert {\n",
              "      background-color: #3B4455;\n",
              "      fill: #D2E3FC;\n",
              "    }\n",
              "\n",
              "    [theme=dark] .colab-df-convert:hover {\n",
              "      background-color: #434B5C;\n",
              "      box-shadow: 0px 1px 3px 1px rgba(0, 0, 0, 0.15);\n",
              "      filter: drop-shadow(0px 1px 2px rgba(0, 0, 0, 0.3));\n",
              "      fill: #FFFFFF;\n",
              "    }\n",
              "  </style>\n",
              "\n",
              "      <script>\n",
              "        const buttonEl =\n",
              "          document.querySelector('#df-019e5ea7-e615-4f02-b86a-19248d4eac7a button.colab-df-convert');\n",
              "        buttonEl.style.display =\n",
              "          google.colab.kernel.accessAllowed ? 'block' : 'none';\n",
              "\n",
              "        async function convertToInteractive(key) {\n",
              "          const element = document.querySelector('#df-019e5ea7-e615-4f02-b86a-19248d4eac7a');\n",
              "          const dataTable =\n",
              "            await google.colab.kernel.invokeFunction('convertToInteractive',\n",
              "                                                     [key], {});\n",
              "          if (!dataTable) return;\n",
              "\n",
              "          const docLinkHtml = 'Like what you see? Visit the ' +\n",
              "            '<a target=\"_blank\" href=https://colab.research.google.com/notebooks/data_table.ipynb>data table notebook</a>'\n",
              "            + ' to learn more about interactive tables.';\n",
              "          element.innerHTML = '';\n",
              "          dataTable['output_type'] = 'display_data';\n",
              "          await google.colab.output.renderOutput(dataTable, element);\n",
              "          const docLink = document.createElement('div');\n",
              "          docLink.innerHTML = docLinkHtml;\n",
              "          element.appendChild(docLink);\n",
              "        }\n",
              "      </script>\n",
              "    </div>\n",
              "  </div>\n",
              "  "
            ]
          },
          "metadata": {},
          "execution_count": 92
        }
      ]
    },
    {
      "cell_type": "code",
      "source": [
        "\n",
        "df_1_ml.info()"
      ],
      "metadata": {
        "colab": {
          "base_uri": "https://localhost:8080/"
        },
        "id": "6tkyguTLsXhJ",
        "outputId": "a6b53359-e595-4d30-d3ae-b504510fe09d"
      },
      "execution_count": 93,
      "outputs": [
        {
          "output_type": "stream",
          "name": "stdout",
          "text": [
            "<class 'pandas.core.frame.DataFrame'>\n",
            "RangeIndex: 48842 entries, 0 to 48841\n",
            "Data columns (total 15 columns):\n",
            " #   Column           Non-Null Count  Dtype \n",
            "---  ------           --------------  ----- \n",
            " 0   age              48842 non-null  int64 \n",
            " 1   workclass        48842 non-null  object\n",
            " 2   fnlwgt           48842 non-null  int64 \n",
            " 3   education        48842 non-null  object\n",
            " 4   educational-num  48842 non-null  int64 \n",
            " 5   marital-status   48842 non-null  object\n",
            " 6   occupation       48842 non-null  object\n",
            " 7   relationship     48842 non-null  object\n",
            " 8   race             48842 non-null  object\n",
            " 9   gender           48842 non-null  object\n",
            " 10  capital-gain     48842 non-null  int64 \n",
            " 11  capital-loss     48842 non-null  int64 \n",
            " 12  hours-per-week   48842 non-null  int64 \n",
            " 13  native-country   48842 non-null  object\n",
            " 14  income           48842 non-null  object\n",
            "dtypes: int64(6), object(9)\n",
            "memory usage: 5.6+ MB\n"
          ]
        }
      ]
    },
    {
      "cell_type": "code",
      "source": [
        "#This will allow me to identify if there are duplicate values in the data. I can see that there are 52\n",
        "print(df_1_ml.duplicated().value_counts())\n"
      ],
      "metadata": {
        "colab": {
          "base_uri": "https://localhost:8080/"
        },
        "id": "NHhTbBw6tErn",
        "outputId": "1542dbd4-1ce0-452a-8e1c-b39294f4f9a1"
      },
      "execution_count": 94,
      "outputs": [
        {
          "output_type": "stream",
          "name": "stdout",
          "text": [
            "False    48790\n",
            "True        52\n",
            "dtype: int64\n"
          ]
        }
      ]
    },
    {
      "cell_type": "code",
      "source": [
        "#look at the values of all objects to see if necessary to adjust. \n",
        "for o in df_1_ml.select_dtypes(object):\n",
        "  print(df_1_ml[o].value_counts())\n",
        "  print('\\n')"
      ],
      "metadata": {
        "id": "AsClkdvbBRHV",
        "outputId": "0b7462f9-5f48-45e5-c185-d2dbf8153148",
        "colab": {
          "base_uri": "https://localhost:8080/"
        }
      },
      "execution_count": 95,
      "outputs": [
        {
          "output_type": "stream",
          "name": "stdout",
          "text": [
            "Private             33906\n",
            "Self-emp-not-inc     3862\n",
            "Local-gov            3136\n",
            "?                    2799\n",
            "State-gov            1981\n",
            "Self-emp-inc         1695\n",
            "Federal-gov          1432\n",
            "Without-pay            21\n",
            "Never-worked           10\n",
            "Name: workclass, dtype: int64\n",
            "\n",
            "\n",
            "HS-grad         15784\n",
            "Some-college    10878\n",
            "Bachelors        8025\n",
            "Masters          2657\n",
            "Assoc-voc        2061\n",
            "11th             1812\n",
            "Assoc-acdm       1601\n",
            "10th             1389\n",
            "7th-8th           955\n",
            "Prof-school       834\n",
            "9th               756\n",
            "12th              657\n",
            "Doctorate         594\n",
            "5th-6th           509\n",
            "1st-4th           247\n",
            "Preschool          83\n",
            "Name: education, dtype: int64\n",
            "\n",
            "\n",
            "Married-civ-spouse       22379\n",
            "Never-married            16117\n",
            "Divorced                  6633\n",
            "Separated                 1530\n",
            "Widowed                   1518\n",
            "Married-spouse-absent      628\n",
            "Married-AF-spouse           37\n",
            "Name: marital-status, dtype: int64\n",
            "\n",
            "\n",
            "Prof-specialty       6172\n",
            "Craft-repair         6112\n",
            "Exec-managerial      6086\n",
            "Adm-clerical         5611\n",
            "Sales                5504\n",
            "Other-service        4923\n",
            "Machine-op-inspct    3022\n",
            "?                    2809\n",
            "Transport-moving     2355\n",
            "Handlers-cleaners    2072\n",
            "Farming-fishing      1490\n",
            "Tech-support         1446\n",
            "Protective-serv       983\n",
            "Priv-house-serv       242\n",
            "Armed-Forces           15\n",
            "Name: occupation, dtype: int64\n",
            "\n",
            "\n",
            "Husband           19716\n",
            "Not-in-family     12583\n",
            "Own-child          7581\n",
            "Unmarried          5125\n",
            "Wife               2331\n",
            "Other-relative     1506\n",
            "Name: relationship, dtype: int64\n",
            "\n",
            "\n",
            "White                 41762\n",
            "Black                  4685\n",
            "Asian-Pac-Islander     1519\n",
            "Amer-Indian-Eskimo      470\n",
            "Other                   406\n",
            "Name: race, dtype: int64\n",
            "\n",
            "\n",
            "Male      32650\n",
            "Female    16192\n",
            "Name: gender, dtype: int64\n",
            "\n",
            "\n",
            "United-States                 43832\n",
            "Mexico                          951\n",
            "?                               857\n",
            "Philippines                     295\n",
            "Germany                         206\n",
            "Puerto-Rico                     184\n",
            "Canada                          182\n",
            "El-Salvador                     155\n",
            "India                           151\n",
            "Cuba                            138\n",
            "England                         127\n",
            "China                           122\n",
            "South                           115\n",
            "Jamaica                         106\n",
            "Italy                           105\n",
            "Dominican-Republic              103\n",
            "Japan                            92\n",
            "Guatemala                        88\n",
            "Poland                           87\n",
            "Vietnam                          86\n",
            "Columbia                         85\n",
            "Haiti                            75\n",
            "Portugal                         67\n",
            "Taiwan                           65\n",
            "Iran                             59\n",
            "Greece                           49\n",
            "Nicaragua                        49\n",
            "Peru                             46\n",
            "Ecuador                          45\n",
            "France                           38\n",
            "Ireland                          37\n",
            "Hong                             30\n",
            "Thailand                         30\n",
            "Cambodia                         28\n",
            "Trinadad&Tobago                  27\n",
            "Laos                             23\n",
            "Yugoslavia                       23\n",
            "Outlying-US(Guam-USVI-etc)       23\n",
            "Scotland                         21\n",
            "Honduras                         20\n",
            "Hungary                          19\n",
            "Holand-Netherlands                1\n",
            "Name: native-country, dtype: int64\n",
            "\n",
            "\n",
            "<=50K    37155\n",
            ">50K     11687\n",
            "Name: income, dtype: int64\n",
            "\n",
            "\n"
          ]
        }
      ]
    },
    {
      "cell_type": "code",
      "source": [
        "df_1_ml.nunique()"
      ],
      "metadata": {
        "id": "k0P0-Ndyw5W_",
        "outputId": "50e1e271-dd53-4046-fcee-d664170eab4a",
        "colab": {
          "base_uri": "https://localhost:8080/"
        }
      },
      "execution_count": 96,
      "outputs": [
        {
          "output_type": "execute_result",
          "data": {
            "text/plain": [
              "age                   74\n",
              "workclass              9\n",
              "fnlwgt             28523\n",
              "education             16\n",
              "educational-num       16\n",
              "marital-status         7\n",
              "occupation            15\n",
              "relationship           6\n",
              "race                   5\n",
              "gender                 2\n",
              "capital-gain         123\n",
              "capital-loss          99\n",
              "hours-per-week        96\n",
              "native-country        42\n",
              "income                 2\n",
              "dtype: int64"
            ]
          },
          "metadata": {},
          "execution_count": 96
        }
      ]
    },
    {
      "cell_type": "markdown",
      "source": [
        "Upon review of the unique fields I see opportunities to drop columns that will not aid in the prediction of the class.\n",
        "\n",
        "The best candidate to eliminate will be \"fnlwgt', this factor does not add predictive value and substantially increases the feature complication. \n",
        "\n",
        "I also believe the captial gain and capital loss columns can be removed. \n",
        "\n",
        "It appears the education and educational num are associated with each other and therefore I can eliminate education for the the classification exercise. \n",
        "\n",
        "Age presents an opportunity to bin ages into 4 or 5 groups. "
      ],
      "metadata": {
        "id": "mNLs4zVvyUDZ"
      }
    },
    {
      "cell_type": "code",
      "source": [
        "df_1_ml['age'] = df_1_ml['age'].apply(lambda x: 'young' if x < 30 else 'distinguished')"
      ],
      "metadata": {
        "id": "0_Jc8RhBD1gM"
      },
      "execution_count": 97,
      "outputs": []
    },
    {
      "cell_type": "code",
      "source": [
        "df_1_ml['income'] = df_1_ml['income'].replace('<=50K', 0)\n",
        "df_1_ml['income'] = df_1_ml['income'].replace('>50K', 1)\n",
        "\n",
        "df_1_ml['income'].head()"
      ],
      "metadata": {
        "colab": {
          "base_uri": "https://localhost:8080/"
        },
        "id": "2li-pB34DpHG",
        "outputId": "170b15c8-6aeb-4b00-ebf3-bc44f5119cb5"
      },
      "execution_count": 98,
      "outputs": [
        {
          "output_type": "execute_result",
          "data": {
            "text/plain": [
              "0    0\n",
              "1    0\n",
              "2    1\n",
              "3    1\n",
              "4    0\n",
              "Name: income, dtype: int64"
            ]
          },
          "metadata": {},
          "execution_count": 98
        }
      ]
    },
    {
      "cell_type": "code",
      "source": [
        "df_1_ml.drop(columns=['fnlwgt', 'capital-gain', 'capital-loss', 'education'], inplace=True)\n",
        "df_1_ml.info()"
      ],
      "metadata": {
        "id": "ebTxjZc4-OvH",
        "outputId": "b290e9d7-881a-442a-e19e-a63d1326e4be",
        "colab": {
          "base_uri": "https://localhost:8080/"
        }
      },
      "execution_count": 99,
      "outputs": [
        {
          "output_type": "stream",
          "name": "stdout",
          "text": [
            "<class 'pandas.core.frame.DataFrame'>\n",
            "RangeIndex: 48842 entries, 0 to 48841\n",
            "Data columns (total 11 columns):\n",
            " #   Column           Non-Null Count  Dtype \n",
            "---  ------           --------------  ----- \n",
            " 0   age              48842 non-null  object\n",
            " 1   workclass        48842 non-null  object\n",
            " 2   educational-num  48842 non-null  int64 \n",
            " 3   marital-status   48842 non-null  object\n",
            " 4   occupation       48842 non-null  object\n",
            " 5   relationship     48842 non-null  object\n",
            " 6   race             48842 non-null  object\n",
            " 7   gender           48842 non-null  object\n",
            " 8   hours-per-week   48842 non-null  int64 \n",
            " 9   native-country   48842 non-null  object\n",
            " 10  income           48842 non-null  int64 \n",
            "dtypes: int64(3), object(8)\n",
            "memory usage: 4.1+ MB\n"
          ]
        }
      ]
    },
    {
      "cell_type": "code",
      "source": [
        "df_1_ml.boxplot(column = 'educational-num');\n"
      ],
      "metadata": {
        "id": "2A3jiwWdJQB7",
        "outputId": "32e5514b-e6fc-47c2-a9d3-dcc4e5dfc92b",
        "colab": {
          "base_uri": "https://localhost:8080/",
          "height": 265
        }
      },
      "execution_count": 100,
      "outputs": [
        {
          "output_type": "display_data",
          "data": {
            "text/plain": [
              "<Figure size 432x288 with 1 Axes>"
            ],
            "image/png": "[encoded data removed]"
          },
          "metadata": {
            "needs_background": "light"
          }
        }
      ]
    },
    {
      "cell_type": "code",
      "source": [
        "df_1_ml.boxplot(column = 'hours-per-week');"
      ],
      "metadata": {
        "colab": {
          "base_uri": "https://localhost:8080/",
          "height": 265
        },
        "id": "BBa-qD9w53DO",
        "outputId": "1a90343e-9b6b-4ec6-eeaf-3068b312a052"
      },
      "execution_count": 101,
      "outputs": [
        {
          "output_type": "display_data",
          "data": {
            "text/plain": [
              "<Figure size 432x288 with 1 Axes>"
            ],
            "image/png": "[encoded data removed]"
          },
          "metadata": {
            "needs_background": "light"
          }
        }
      ]
    },
    {
      "cell_type": "code",
      "source": [
        "y = df_1_ml['income']\n",
        "X = df_1_ml.drop(columns= 'income')\n",
        "\n",
        "X_train, X_test, y_train, y_test = train_test_split(X,y, random_state=42)\n"
      ],
      "metadata": {
        "id": "-sLNhOmZ95oJ"
      },
      "execution_count": 102,
      "outputs": []
    },
    {
      "cell_type": "code",
      "source": [
        "\n",
        "cat_selector = make_column_selector(dtype_include='object')\n",
        "num_selector = make_column_selector(dtype_include='number')\n",
        "ohe = OneHotEncoder(handle_unknown='ignore', sparse=False)\n",
        "scaler = StandardScaler()\n",
        "pca = PCA(n_components=2)\n",
        "knn = KNeighborsClassifier()\n",
        "\n",
        "\n",
        "num_tuple = (scaler, num_selector)\n",
        "cat_tuple = (ohe, cat_selector)\n",
        "\n",
        "processor = make_column_transformer(num_tuple,cat_tuple)\n",
        "\n",
        "\n",
        "knn_pipe = make_pipeline(processor, knn)\n",
        "knn_pca_pipe = make_pipeline(processor, pca, knn)\n",
        "\n"
      ],
      "metadata": {
        "id": "crgCIXztdUq6"
      },
      "execution_count": 141,
      "outputs": []
    },
    {
      "cell_type": "code",
      "source": [
        "%%time\n",
        "knn_pipe.fit(X_train, y_train)\n"
      ],
      "metadata": {
        "colab": {
          "base_uri": "https://localhost:8080/"
        },
        "id": "SNg51PWm_vg5",
        "outputId": "a2bb90ff-20b4-41c6-9029-d6221fc33819"
      },
      "execution_count": 104,
      "outputs": [
        {
          "output_type": "stream",
          "name": "stdout",
          "text": [
            "CPU times: user 133 ms, sys: 4.84 ms, total: 138 ms\n",
            "Wall time: 141 ms\n"
          ]
        },
        {
          "output_type": "execute_result",
          "data": {
            "text/plain": [
              "Pipeline(steps=[('columntransformer',\n",
              "                 ColumnTransformer(transformers=[('standardscaler',\n",
              "                                                  StandardScaler(),\n",
              "                                                  <sklearn.compose._column_transformer.make_column_selector object at 0x7ffa07a49d90>),\n",
              "                                                 ('onehotencoder',\n",
              "                                                  OneHotEncoder(handle_unknown='ignore',\n",
              "                                                                sparse=False),\n",
              "                                                  <sklearn.compose._column_transformer.make_column_selector object at 0x7ffa07a49d10>)])),\n",
              "                ('kneighborsclassifier', KNeighborsClassifier())])"
            ]
          },
          "metadata": {},
          "execution_count": 104
        }
      ]
    },
    {
      "cell_type": "code",
      "source": [
        "%%time\n",
        "knn_pca_pipe.fit(X_train, y_train)"
      ],
      "metadata": {
        "colab": {
          "base_uri": "https://localhost:8080/"
        },
        "id": "p64Y2yJW_30V",
        "outputId": "06c1fc64-ab97-4383-ec0c-4f75cf3d77ad"
      },
      "execution_count": 142,
      "outputs": [
        {
          "output_type": "stream",
          "name": "stdout",
          "text": [
            "CPU times: user 585 ms, sys: 149 ms, total: 733 ms\n",
            "Wall time: 443 ms\n"
          ]
        },
        {
          "output_type": "execute_result",
          "data": {
            "text/plain": [
              "Pipeline(steps=[('columntransformer',\n",
              "                 ColumnTransformer(transformers=[('standardscaler',\n",
              "                                                  StandardScaler(),\n",
              "                                                  <sklearn.compose._column_transformer.make_column_selector object at 0x7ffa0b1f3b10>),\n",
              "                                                 ('onehotencoder',\n",
              "                                                  OneHotEncoder(handle_unknown='ignore',\n",
              "                                                                sparse=False),\n",
              "                                                  <sklearn.compose._column_transformer.make_column_selector object at 0x7ffa0b54bf10>)])),\n",
              "                ('pca', PCA(n_components=2)),\n",
              "                ('kneighborsclassifier', KNeighborsClassifier())])"
            ]
          },
          "metadata": {},
          "execution_count": 142
        }
      ]
    },
    {
      "cell_type": "code",
      "source": [
        "%%time\n",
        "knn_pred_train = knn_pipe.predict(X_train)\n",
        "knn_pred_test = knn_pipe.predict(X_test)"
      ],
      "metadata": {
        "colab": {
          "base_uri": "https://localhost:8080/"
        },
        "id": "liqTLx7OAGmF",
        "outputId": "f20bbad9-2eda-4e96-d7da-a1d0c4442d1a"
      },
      "execution_count": 106,
      "outputs": [
        {
          "output_type": "stream",
          "name": "stdout",
          "text": [
            "CPU times: user 56.6 s, sys: 3.26 s, total: 59.8 s\n",
            "Wall time: 47.3 s\n"
          ]
        }
      ]
    },
    {
      "cell_type": "code",
      "source": [
        "%%time\n",
        "knn_pca_pred_train = knn_pca_pipe.predict(X_train)\n",
        "knn_pca_pred_test = knn_pca_pipe.predict(X_test)\n"
      ],
      "metadata": {
        "id": "y4IpBB61B4a-",
        "colab": {
          "base_uri": "https://localhost:8080/"
        },
        "outputId": "7fb7679d-ae36-4697-a8e1-7b0313d88855"
      },
      "execution_count": 143,
      "outputs": [
        {
          "output_type": "stream",
          "name": "stdout",
          "text": [
            "CPU times: user 1.59 s, sys: 245 ms, total: 1.83 s\n",
            "Wall time: 1.58 s\n"
          ]
        }
      ]
    },
    {
      "cell_type": "code",
      "source": [
        "knn_train_scores = eval_classification(y_train, knn_pred_train, name='KNN Train')"
      ],
      "metadata": {
        "colab": {
          "base_uri": "https://localhost:8080/",
          "height": 480
        },
        "id": "mxJpffgBCFel",
        "outputId": "041a544e-02c7-4c4e-c84b-85348259e3dd"
      },
      "execution_count": 140,
      "outputs": [
        {
          "output_type": "stream",
          "name": "stdout",
          "text": [
            "KNN Train \n",
            "\n",
            "              precision    recall  f1-score   support\n",
            "\n",
            "           0       0.77      0.96      0.85     27801\n",
            "           1       0.40      0.09      0.15      8830\n",
            "\n",
            "    accuracy                           0.75     36631\n",
            "   macro avg       0.58      0.52      0.50     36631\n",
            "weighted avg       0.68      0.75      0.68     36631\n",
            "\n"
          ]
        },
        {
          "output_type": "display_data",
          "data": {
            "text/plain": [
              "<Figure size 432x288 with 2 Axes>"
            ],
            "image/png": "[encoded data removed]"
          },
          "metadata": {
            "needs_background": "light"
          }
        }
      ]
    },
    {
      "cell_type": "code",
      "source": [
        "knn_test_scores = eval_classification(y_test, knn_pred_test, name = 'KNN Test')"
      ],
      "metadata": {
        "colab": {
          "base_uri": "https://localhost:8080/",
          "height": 480
        },
        "id": "xnT6HYD7F_PU",
        "outputId": "167c7533-feae-4e6d-9d8c-1a8dbbd7b61e"
      },
      "execution_count": 137,
      "outputs": [
        {
          "output_type": "stream",
          "name": "stdout",
          "text": [
            "KNN Test \n",
            "\n",
            "              precision    recall  f1-score   support\n",
            "\n",
            "           0       0.78      0.95      0.86      9354\n",
            "           1       0.39      0.10      0.15      2857\n",
            "\n",
            "    accuracy                           0.75     12211\n",
            "   macro avg       0.58      0.52      0.50     12211\n",
            "weighted avg       0.68      0.75      0.69     12211\n",
            "\n"
          ]
        },
        {
          "output_type": "display_data",
          "data": {
            "text/plain": [
              "<Figure size 432x288 with 2 Axes>"
            ],
            "image/png": "[encoded data removed]"
          },
          "metadata": {
            "needs_background": "light"
          }
        }
      ]
    },
    {
      "cell_type": "code",
      "source": [
        "knn_pca_train_scores = eval_classification(y_train, knn_pca_pred_train, name='KNN w-PCA Train')"
      ],
      "metadata": {
        "colab": {
          "base_uri": "https://localhost:8080/",
          "height": 480
        },
        "id": "OAYQnvCXF_f8",
        "outputId": "01d71b06-ae16-4d85-a456-731c2ff90aba"
      },
      "execution_count": 146,
      "outputs": [
        {
          "output_type": "stream",
          "name": "stdout",
          "text": [
            "KNN w-PCA Train \n",
            "\n",
            "              precision    recall  f1-score   support\n",
            "\n",
            "           0       0.87      0.92      0.90     27801\n",
            "           1       0.70      0.57      0.63      8830\n",
            "\n",
            "    accuracy                           0.84     36631\n",
            "   macro avg       0.79      0.75      0.76     36631\n",
            "weighted avg       0.83      0.84      0.83     36631\n",
            "\n"
          ]
        },
        {
          "output_type": "display_data",
          "data": {
            "text/plain": [
              "<Figure size 432x288 with 2 Axes>"
            ],
            "image/png": "[encoded data removed]"
          },
          "metadata": {
            "needs_background": "light"
          }
        }
      ]
    },
    {
      "cell_type": "code",
      "source": [
        "knn_pca_test_scores = eval_classification(y_test, knn_pca_pred_test, name = 'KNN w-PCA Test')"
      ],
      "metadata": {
        "colab": {
          "base_uri": "https://localhost:8080/",
          "height": 480
        },
        "id": "P_HqJ7x0F_v8",
        "outputId": "851ce06d-266c-437d-ad32-c6b0568bedb4"
      },
      "execution_count": 147,
      "outputs": [
        {
          "output_type": "stream",
          "name": "stdout",
          "text": [
            "KNN w-PCA Test \n",
            "\n",
            "              precision    recall  f1-score   support\n",
            "\n",
            "           0       0.86      0.91      0.88      9354\n",
            "           1       0.62      0.51      0.56      2857\n",
            "\n",
            "    accuracy                           0.81     12211\n",
            "   macro avg       0.74      0.71      0.72     12211\n",
            "weighted avg       0.80      0.81      0.81     12211\n",
            "\n"
          ]
        },
        {
          "output_type": "display_data",
          "data": {
            "text/plain": [
              "<Figure size 432x288 with 2 Axes>"
            ],
            "image/png": "[encoded data removed]"
          },
          "metadata": {
            "needs_background": "light"
          }
        }
      ]
    },
    {
      "cell_type": "markdown",
      "source": [
        "Upon review of the KNN Model before and after PCA it appears that PCA engineering can have an effect on the overall accuracy of the model. For test scores a 6% increase was observed. It is noted that precision, recall, and F1 were all down for class 0 but substantially up for class 1. The overall goal of the exercise was to predict which category the target would fall into and there is no known cost associated with Type 1 or Type 2 errors. Therefore PCA would be a useful process to add to the modeling outcome. "
      ],
      "metadata": {
        "id": "7ltlYHXEI0ES"
      }
    },
    {
      "cell_type": "code",
      "source": [
        "neighbors = list(range(1,10))\n",
        "\n",
        "df_scores = pd.DataFrame(index=neighbors, columns=['Test Score', 'Train Score'])\n",
        "\n",
        "for n in neighbors:\n",
        "  loop_knn = KNeighborsClassifier(n_neighbors=n)\n",
        "  loop_pipe = make_pipeline(processor, loop_knn)\n",
        "  loop_pipe.fit(X_train, y_train)\n",
        "  train_score = loop_pipe.score(X_train, y_train)\n",
        "  test_score = loop_pipe.score(X_test, y_test)\n",
        "  df_scores.loc[n, 'Train Score'] = train_score\n",
        "  df_scores.loc[n, 'Test Score'] = test_score"
      ],
      "metadata": {
        "id": "jrpVMGfLFtQQ"
      },
      "execution_count": 150,
      "outputs": []
    },
    {
      "cell_type": "code",
      "source": [
        "print(df_scores)"
      ],
      "metadata": {
        "colab": {
          "base_uri": "https://localhost:8080/"
        },
        "id": "1mCfuPDxOOEO",
        "outputId": "9b4f856a-60db-4f54-a2a9-ddcc2e09f284"
      },
      "execution_count": 151,
      "outputs": [
        {
          "output_type": "stream",
          "name": "stdout",
          "text": [
            "  Test Score Train Score\n",
            "1   0.789534    0.879037\n",
            "2   0.810089    0.844285\n",
            "3   0.815167    0.857989\n",
            "4   0.823028    0.850427\n",
            "5   0.824339    0.850455\n",
            "6    0.82524    0.846578\n",
            "7   0.828597    0.848216\n",
            "8     0.8313    0.847261\n",
            "9   0.833838    0.847069\n"
          ]
        }
      ]
    },
    {
      "cell_type": "code",
      "source": [
        "knn_ht = KNeighborsClassifier(n_neighbors=9)\n",
        "knn_pca_pipe_ht = make_pipeline(processor, pca, knn_ht)\n"
      ],
      "metadata": {
        "id": "lVFGxMaiO0EV"
      },
      "execution_count": 152,
      "outputs": []
    },
    {
      "cell_type": "code",
      "source": [
        "%%time\n",
        "knn_pca_pipe_ht.fit(X_train, y_train)"
      ],
      "metadata": {
        "colab": {
          "base_uri": "https://localhost:8080/"
        },
        "id": "H5gnJ0fXPUav",
        "outputId": "f9a17299-1dbc-4775-e21c-9726b2cd1f69"
      },
      "execution_count": 153,
      "outputs": [
        {
          "output_type": "stream",
          "name": "stdout",
          "text": [
            "CPU times: user 567 ms, sys: 208 ms, total: 775 ms\n",
            "Wall time: 467 ms\n"
          ]
        },
        {
          "output_type": "execute_result",
          "data": {
            "text/plain": [
              "Pipeline(steps=[('columntransformer',\n",
              "                 ColumnTransformer(transformers=[('standardscaler',\n",
              "                                                  StandardScaler(),\n",
              "                                                  <sklearn.compose._column_transformer.make_column_selector object at 0x7ffa0b1f3b10>),\n",
              "                                                 ('onehotencoder',\n",
              "                                                  OneHotEncoder(handle_unknown='ignore',\n",
              "                                                                sparse=False),\n",
              "                                                  <sklearn.compose._column_transformer.make_column_selector object at 0x7ffa0b54bf10>)])),\n",
              "                ('pca', PCA(n_components=2)),\n",
              "                ('kneighborsclassifier', KNeighborsClassifier(n_neighbors=9))])"
            ]
          },
          "metadata": {},
          "execution_count": 153
        }
      ]
    },
    {
      "cell_type": "code",
      "source": [
        "%%time\n",
        "knn_pca_pred__ht_train = knn_pca_pipe_ht.predict(X_train)\n",
        "knn_pca_pred_ht_test = knn_pca_pipe_ht.predict(X_test)\n"
      ],
      "metadata": {
        "colab": {
          "base_uri": "https://localhost:8080/"
        },
        "id": "qglRX0nXPVJE",
        "outputId": "bfd3c57f-22fe-4fbd-b743-d0b9db222c67"
      },
      "execution_count": 154,
      "outputs": [
        {
          "output_type": "stream",
          "name": "stdout",
          "text": [
            "CPU times: user 1.62 s, sys: 235 ms, total: 1.85 s\n",
            "Wall time: 1.62 s\n"
          ]
        }
      ]
    },
    {
      "cell_type": "code",
      "source": [
        "knn_pca__ht_train_scores = eval_classification(y_train, knn_pca_pred__ht_train, name='KNN w-PCA hyper-tuned Train')"
      ],
      "metadata": {
        "colab": {
          "base_uri": "https://localhost:8080/",
          "height": 481
        },
        "id": "TlJyBMajPo59",
        "outputId": "6dd82fae-d6de-4b05-baa4-1bf7d0bb4f1b"
      },
      "execution_count": 157,
      "outputs": [
        {
          "output_type": "stream",
          "name": "stdout",
          "text": [
            "KNN w-PCA hyper-tuned Train \n",
            "\n",
            "              precision    recall  f1-score   support\n",
            "\n",
            "           0       0.87      0.91      0.89     27801\n",
            "           1       0.67      0.58      0.63      8830\n",
            "\n",
            "    accuracy                           0.83     36631\n",
            "   macro avg       0.77      0.75      0.76     36631\n",
            "weighted avg       0.83      0.83      0.83     36631\n",
            "\n"
          ]
        },
        {
          "output_type": "display_data",
          "data": {
            "text/plain": [
              "<Figure size 432x288 with 2 Axes>"
            ],
            "image/png": "[encoded data removed]"
          },
          "metadata": {
            "needs_background": "light"
          }
        }
      ]
    },
    {
      "cell_type": "code",
      "source": [
        "knn_pca__ht_test_scores = eval_classification(y_test, knn_pca_pred_ht_test, name = 'KNN w-PCA and hyper-tuned Test')"
      ],
      "metadata": {
        "colab": {
          "base_uri": "https://localhost:8080/",
          "height": 480
        },
        "id": "rllkhJvlPvWm",
        "outputId": "42dda1ff-4076-4598-9744-46ead7890f32"
      },
      "execution_count": 158,
      "outputs": [
        {
          "output_type": "stream",
          "name": "stdout",
          "text": [
            "KNN w-PCA and hyper-tuned Test \n",
            "\n",
            "              precision    recall  f1-score   support\n",
            "\n",
            "           0       0.86      0.90      0.88      9354\n",
            "           1       0.62      0.54      0.58      2857\n",
            "\n",
            "    accuracy                           0.82     12211\n",
            "   macro avg       0.74      0.72      0.73     12211\n",
            "weighted avg       0.81      0.82      0.81     12211\n",
            "\n"
          ]
        },
        {
          "output_type": "display_data",
          "data": {
            "text/plain": [
              "<Figure size 432x288 with 2 Axes>"
            ],
            "image/png": "[encoded data removed]"
          },
          "metadata": {
            "needs_background": "light"
          }
        }
      ]
    },
    {
      "cell_type": "markdown",
      "source": [
        "After hyper tunig the KNN model it was observed that the test accurace only increased by 1%. It is noteable that the training accurace actually decreased after hyper-tuning in the PCA version of the model. Despite the training output I would recommend to retain the hypertuning to further increase accuracy in the model. "
      ],
      "metadata": {
        "id": "9MroNNpNQvyx"
      }
    },
    {
      "cell_type": "markdown",
      "source": [
        "#Data Set 2 Credit Card Customer Prediction Dataset\n",
        "\n",
        "##1. The data was downloaded from Kaggle. \n",
        "\n",
        "The data was found here: https://leaps.analyttica.com/home [Date Retrieved] from https://www.kaggle.com/datasets/whenamancodes/credit-card-customers-prediction\n",
        "\n",
        "##2. The data is a collection of humans that are or were customers of a credit card company. \n",
        "\n",
        "##3. The target will be the \"Atrrition_Flag\" column. The objective will be to predict if customers will leave the company based on various features. \n",
        "\n",
        "##4. Each row represents one person in the study. \n",
        "\n",
        "##5. This is a classification problem. \n",
        "\n",
        "##6. The data has 23 features. \n",
        "\n",
        "##7. There are 10,127 rows. \n",
        "\n",
        "##8. The largest concern with the data is number of customers that churn. This is a small group of overall number and may not be a strong representation to predict attrition. \n"
      ],
      "metadata": {
        "id": "oPeHJyW_uFzY"
      }
    },
    {
      "cell_type": "code",
      "source": [
        "#This will drop all the duplicate rows and then verify they have been dropped. \n",
        "df_1_ml.drop_duplicates(inplace=True)\n",
        "print(df_1_ml.duplicated().value_counts())"
      ],
      "metadata": {
        "id": "zFYNKJXjAKLo",
        "colab": {
          "base_uri": "https://localhost:8080/"
        },
        "outputId": "b94c98cd-c0c6-4169-8b3e-dae135edb153"
      },
      "execution_count": 109,
      "outputs": [
        {
          "output_type": "stream",
          "name": "stdout",
          "text": [
            "False    25979\n",
            "dtype: int64\n"
          ]
        }
      ]
    },
    {
      "cell_type": "code",
      "source": [
        "df_2 = pd.read_csv('BankChurners.csv')\n",
        "df_2_ml = df_2.copy()"
      ],
      "metadata": {
        "id": "AnlJVlH2uCWR"
      },
      "execution_count": 110,
      "outputs": []
    },
    {
      "cell_type": "code",
      "source": [
        "df_2_ml.head()"
      ],
      "metadata": {
        "id": "w_T3BRh8yQK-",
        "colab": {
          "base_uri": "https://localhost:8080/",
          "height": 0
        },
        "outputId": "d8cd7154-37f2-4da8-d8f7-e74aec700e8b"
      },
      "execution_count": 111,
      "outputs": [
        {
          "output_type": "execute_result",
          "data": {
            "text/plain": [
              "   CLIENTNUM     Attrition_Flag  Customer_Age Gender  Dependent_count  \\\n",
              "0  768805383  Existing Customer            45      M                3   \n",
              "1  818770008  Existing Customer            49      F                5   \n",
              "2  713982108  Existing Customer            51      M                3   \n",
              "3  769911858  Existing Customer            40      F                4   \n",
              "4  709106358  Existing Customer            40      M                3   \n",
              "\n",
              "  Education_Level Marital_Status Income_Category Card_Category  \\\n",
              "0     High School        Married     $60K - $80K          Blue   \n",
              "1        Graduate         Single  Less than $40K          Blue   \n",
              "2        Graduate        Married    $80K - $120K          Blue   \n",
              "3     High School        Unknown  Less than $40K          Blue   \n",
              "4      Uneducated        Married     $60K - $80K          Blue   \n",
              "\n",
              "   Months_on_book  ...  Credit_Limit  Total_Revolving_Bal  Avg_Open_To_Buy  \\\n",
              "0              39  ...       12691.0                  777          11914.0   \n",
              "1              44  ...        8256.0                  864           7392.0   \n",
              "2              36  ...        3418.0                    0           3418.0   \n",
              "3              34  ...        3313.0                 2517            796.0   \n",
              "4              21  ...        4716.0                    0           4716.0   \n",
              "\n",
              "   Total_Amt_Chng_Q4_Q1  Total_Trans_Amt  Total_Trans_Ct  Total_Ct_Chng_Q4_Q1  \\\n",
              "0                 1.335             1144              42                1.625   \n",
              "1                 1.541             1291              33                3.714   \n",
              "2                 2.594             1887              20                2.333   \n",
              "3                 1.405             1171              20                2.333   \n",
              "4                 2.175              816              28                2.500   \n",
              "\n",
              "   Avg_Utilization_Ratio  \\\n",
              "0                  0.061   \n",
              "1                  0.105   \n",
              "2                  0.000   \n",
              "3                  0.760   \n",
              "4                  0.000   \n",
              "\n",
              "   Naive_Bayes_Classifier_Attrition_Flag_Card_Category_Contacts_Count_12_mon_Dependent_count_Education_Level_Months_Inactive_12_mon_1  \\\n",
              "0                                           0.000093                                                                                    \n",
              "1                                           0.000057                                                                                    \n",
              "2                                           0.000021                                                                                    \n",
              "3                                           0.000134                                                                                    \n",
              "4                                           0.000022                                                                                    \n",
              "\n",
              "   Naive_Bayes_Classifier_Attrition_Flag_Card_Category_Contacts_Count_12_mon_Dependent_count_Education_Level_Months_Inactive_12_mon_2  \n",
              "0                                            0.99991                                                                                   \n",
              "1                                            0.99994                                                                                   \n",
              "2                                            0.99998                                                                                   \n",
              "3                                            0.99987                                                                                   \n",
              "4                                            0.99998                                                                                   \n",
              "\n",
              "[5 rows x 23 columns]"
            ],
            "text/html": [
              "\n",
              "  <div id=\"df-2bdc05f3-d8c5-4c0a-91f8-b97e0e690dde\">\n",
              "    <div class=\"colab-df-container\">\n",
              "      <div>\n",
              "<style scoped>\n",
              "    .dataframe tbody tr th:only-of-type {\n",
              "        vertical-align: middle;\n",
              "    }\n",
              "\n",
              "    .dataframe tbody tr th {\n",
              "        vertical-align: top;\n",
              "    }\n",
              "\n",
              "    .dataframe thead th {\n",
              "        text-align: right;\n",
              "    }\n",
              "</style>\n",
              "<table border=\"1\" class=\"dataframe\">\n",
              "  <thead>\n",
              "    <tr style=\"text-align: right;\">\n",
              "      <th></th>\n",
              "      <th>CLIENTNUM</th>\n",
              "      <th>Attrition_Flag</th>\n",
              "      <th>Customer_Age</th>\n",
              "      <th>Gender</th>\n",
              "      <th>Dependent_count</th>\n",
              "      <th>Education_Level</th>\n",
              "      <th>Marital_Status</th>\n",
              "      <th>Income_Category</th>\n",
              "      <th>Card_Category</th>\n",
              "      <th>Months_on_book</th>\n",
              "      <th>...</th>\n",
              "      <th>Credit_Limit</th>\n",
              "      <th>Total_Revolving_Bal</th>\n",
              "      <th>Avg_Open_To_Buy</th>\n",
              "      <th>Total_Amt_Chng_Q4_Q1</th>\n",
              "      <th>Total_Trans_Amt</th>\n",
              "      <th>Total_Trans_Ct</th>\n",
              "      <th>Total_Ct_Chng_Q4_Q1</th>\n",
              "      <th>Avg_Utilization_Ratio</th>\n",
              "      <th>Naive_Bayes_Classifier_Attrition_Flag_Card_Category_Contacts_Count_12_mon_Dependent_count_Education_Level_Months_Inactive_12_mon_1</th>\n",
              "      <th>Naive_Bayes_Classifier_Attrition_Flag_Card_Category_Contacts_Count_12_mon_Dependent_count_Education_Level_Months_Inactive_12_mon_2</th>\n",
              "    </tr>\n",
              "  </thead>\n",
              "  <tbody>\n",
              "    <tr>\n",
              "      <th>0</th>\n",
              "      <td>768805383</td>\n",
              "      <td>Existing Customer</td>\n",
              "      <td>45</td>\n",
              "      <td>M</td>\n",
              "      <td>3</td>\n",
              "      <td>High School</td>\n",
              "      <td>Married</td>\n",
              "      <td>$60K - $80K</td>\n",
              "      <td>Blue</td>\n",
              "      <td>39</td>\n",
              "      <td>...</td>\n",
              "      <td>12691.0</td>\n",
              "      <td>777</td>\n",
              "      <td>11914.0</td>\n",
              "      <td>1.335</td>\n",
              "      <td>1144</td>\n",
              "      <td>42</td>\n",
              "      <td>1.625</td>\n",
              "      <td>0.061</td>\n",
              "      <td>0.000093</td>\n",
              "      <td>0.99991</td>\n",
              "    </tr>\n",
              "    <tr>\n",
              "      <th>1</th>\n",
              "      <td>818770008</td>\n",
              "      <td>Existing Customer</td>\n",
              "      <td>49</td>\n",
              "      <td>F</td>\n",
              "      <td>5</td>\n",
              "      <td>Graduate</td>\n",
              "      <td>Single</td>\n",
              "      <td>Less than $40K</td>\n",
              "      <td>Blue</td>\n",
              "      <td>44</td>\n",
              "      <td>...</td>\n",
              "      <td>8256.0</td>\n",
              "      <td>864</td>\n",
              "      <td>7392.0</td>\n",
              "      <td>1.541</td>\n",
              "      <td>1291</td>\n",
              "      <td>33</td>\n",
              "      <td>3.714</td>\n",
              "      <td>0.105</td>\n",
              "      <td>0.000057</td>\n",
              "      <td>0.99994</td>\n",
              "    </tr>\n",
              "    <tr>\n",
              "      <th>2</th>\n",
              "      <td>713982108</td>\n",
              "      <td>Existing Customer</td>\n",
              "      <td>51</td>\n",
              "      <td>M</td>\n",
              "      <td>3</td>\n",
              "      <td>Graduate</td>\n",
              "      <td>Married</td>\n",
              "      <td>$80K - $120K</td>\n",
              "      <td>Blue</td>\n",
              "      <td>36</td>\n",
              "      <td>...</td>\n",
              "      <td>3418.0</td>\n",
              "      <td>0</td>\n",
              "      <td>3418.0</td>\n",
              "      <td>2.594</td>\n",
              "      <td>1887</td>\n",
              "      <td>20</td>\n",
              "      <td>2.333</td>\n",
              "      <td>0.000</td>\n",
              "      <td>0.000021</td>\n",
              "      <td>0.99998</td>\n",
              "    </tr>\n",
              "    <tr>\n",
              "      <th>3</th>\n",
              "      <td>769911858</td>\n",
              "      <td>Existing Customer</td>\n",
              "      <td>40</td>\n",
              "      <td>F</td>\n",
              "      <td>4</td>\n",
              "      <td>High School</td>\n",
              "      <td>Unknown</td>\n",
              "      <td>Less than $40K</td>\n",
              "      <td>Blue</td>\n",
              "      <td>34</td>\n",
              "      <td>...</td>\n",
              "      <td>3313.0</td>\n",
              "      <td>2517</td>\n",
              "      <td>796.0</td>\n",
              "      <td>1.405</td>\n",
              "      <td>1171</td>\n",
              "      <td>20</td>\n",
              "      <td>2.333</td>\n",
              "      <td>0.760</td>\n",
              "      <td>0.000134</td>\n",
              "      <td>0.99987</td>\n",
              "    </tr>\n",
              "    <tr>\n",
              "      <th>4</th>\n",
              "      <td>709106358</td>\n",
              "      <td>Existing Customer</td>\n",
              "      <td>40</td>\n",
              "      <td>M</td>\n",
              "      <td>3</td>\n",
              "      <td>Uneducated</td>\n",
              "      <td>Married</td>\n",
              "      <td>$60K - $80K</td>\n",
              "      <td>Blue</td>\n",
              "      <td>21</td>\n",
              "      <td>...</td>\n",
              "      <td>4716.0</td>\n",
              "      <td>0</td>\n",
              "      <td>4716.0</td>\n",
              "      <td>2.175</td>\n",
              "      <td>816</td>\n",
              "      <td>28</td>\n",
              "      <td>2.500</td>\n",
              "      <td>0.000</td>\n",
              "      <td>0.000022</td>\n",
              "      <td>0.99998</td>\n",
              "    </tr>\n",
              "  </tbody>\n",
              "</table>\n",
              "<p>5 rows × 23 columns</p>\n",
              "</div>\n",
              "      <button class=\"colab-df-convert\" onclick=\"convertToInteractive('df-2bdc05f3-d8c5-4c0a-91f8-b97e0e690dde')\"\n",
              "              title=\"Convert this dataframe to an interactive table.\"\n",
              "              style=\"display:none;\">\n",
              "        \n",
              "  <svg xmlns=\"http://www.w3.org/2000/svg\" height=\"24px\"viewBox=\"0 0 24 24\"\n",
              "       width=\"24px\">\n",
              "    <path d=\"M0 0h24v24H0V0z\" fill=\"none\"/>\n",
              "    <path d=\"M18.56 5.44l.94 2.06.94-2.06 2.06-.94-2.06-.94-.94-2.06-.94 2.06-2.06.94zm-11 1L8.5 8.5l.94-2.06 2.06-.94-2.06-.94L8.5 2.5l-.94 2.06-2.06.94zm10 10l.94 2.06.94-2.06 2.06-.94-2.06-.94-.94-2.06-.94 2.06-2.06.94z\"/><path d=\"M17.41 7.96l-1.37-1.37c-.4-.4-.92-.59-1.43-.59-.52 0-1.04.2-1.43.59L10.3 9.45l-7.72 7.72c-.78.78-.78 2.05 0 2.83L4 21.41c.39.39.9.59 1.41.59.51 0 1.02-.2 1.41-.59l7.78-7.78 2.81-2.81c.8-.78.8-2.07 0-2.86zM5.41 20L4 18.59l7.72-7.72 1.47 1.35L5.41 20z\"/>\n",
              "  </svg>\n",
              "      </button>\n",
              "      \n",
              "  <style>\n",
              "    .colab-df-container {\n",
              "      display:flex;\n",
              "      flex-wrap:wrap;\n",
              "      gap: 12px;\n",
              "    }\n",
              "\n",
              "    .colab-df-convert {\n",
              "      background-color: #E8F0FE;\n",
              "      border: none;\n",
              "      border-radius: 50%;\n",
              "      cursor: pointer;\n",
              "      display: none;\n",
              "      fill: #1967D2;\n",
              "      height: 32px;\n",
              "      padding: 0 0 0 0;\n",
              "      width: 32px;\n",
              "    }\n",
              "\n",
              "    .colab-df-convert:hover {\n",
              "      background-color: #E2EBFA;\n",
              "      box-shadow: 0px 1px 2px rgba(60, 64, 67, 0.3), 0px 1px 3px 1px rgba(60, 64, 67, 0.15);\n",
              "      fill: #174EA6;\n",
              "    }\n",
              "\n",
              "    [theme=dark] .colab-df-convert {\n",
              "      background-color: #3B4455;\n",
              "      fill: #D2E3FC;\n",
              "    }\n",
              "\n",
              "    [theme=dark] .colab-df-convert:hover {\n",
              "      background-color: #434B5C;\n",
              "      box-shadow: 0px 1px 3px 1px rgba(0, 0, 0, 0.15);\n",
              "      filter: drop-shadow(0px 1px 2px rgba(0, 0, 0, 0.3));\n",
              "      fill: #FFFFFF;\n",
              "    }\n",
              "  </style>\n",
              "\n",
              "      <script>\n",
              "        const buttonEl =\n",
              "          document.querySelector('#df-2bdc05f3-d8c5-4c0a-91f8-b97e0e690dde button.colab-df-convert');\n",
              "        buttonEl.style.display =\n",
              "          google.colab.kernel.accessAllowed ? 'block' : 'none';\n",
              "\n",
              "        async function convertToInteractive(key) {\n",
              "          const element = document.querySelector('#df-2bdc05f3-d8c5-4c0a-91f8-b97e0e690dde');\n",
              "          const dataTable =\n",
              "            await google.colab.kernel.invokeFunction('convertToInteractive',\n",
              "                                                     [key], {});\n",
              "          if (!dataTable) return;\n",
              "\n",
              "          const docLinkHtml = 'Like what you see? Visit the ' +\n",
              "            '<a target=\"_blank\" href=https://colab.research.google.com/notebooks/data_table.ipynb>data table notebook</a>'\n",
              "            + ' to learn more about interactive tables.';\n",
              "          element.innerHTML = '';\n",
              "          dataTable['output_type'] = 'display_data';\n",
              "          await google.colab.output.renderOutput(dataTable, element);\n",
              "          const docLink = document.createElement('div');\n",
              "          docLink.innerHTML = docLinkHtml;\n",
              "          element.appendChild(docLink);\n",
              "        }\n",
              "      </script>\n",
              "    </div>\n",
              "  </div>\n",
              "  "
            ]
          },
          "metadata": {},
          "execution_count": 111
        }
      ]
    },
    {
      "cell_type": "code",
      "source": [
        "#can verify here if the data is missing values and if the data types are incorrect. Dropping the last two columns as these are calculations from someone elses work and I don't want them to skew the data. \n",
        "df_2_ml.info()\n",
        "df_2_ml = df_2_ml.drop(columns ='Naive_Bayes_Classifier_Attrition_Flag_Card_Category_Contacts_Count_12_mon_Dependent_count_Education_Level_Months_Inactive_12_mon_1')\n",
        "df_2_ml = df_2_ml.drop(columns ='Naive_Bayes_Classifier_Attrition_Flag_Card_Category_Contacts_Count_12_mon_Dependent_count_Education_Level_Months_Inactive_12_mon_2')"
      ],
      "metadata": {
        "id": "FHRFxguiybIv",
        "colab": {
          "base_uri": "https://localhost:8080/"
        },
        "outputId": "34c71ec6-f374-42e6-9de3-2de1f0a54bb1"
      },
      "execution_count": 112,
      "outputs": [
        {
          "output_type": "stream",
          "name": "stdout",
          "text": [
            "<class 'pandas.core.frame.DataFrame'>\n",
            "RangeIndex: 10127 entries, 0 to 10126\n",
            "Data columns (total 23 columns):\n",
            " #   Column                                                                                                                              Non-Null Count  Dtype  \n",
            "---  ------                                                                                                                              --------------  -----  \n",
            " 0   CLIENTNUM                                                                                                                           10127 non-null  int64  \n",
            " 1   Attrition_Flag                                                                                                                      10127 non-null  object \n",
            " 2   Customer_Age                                                                                                                        10127 non-null  int64  \n",
            " 3   Gender                                                                                                                              10127 non-null  object \n",
            " 4   Dependent_count                                                                                                                     10127 non-null  int64  \n",
            " 5   Education_Level                                                                                                                     10127 non-null  object \n",
            " 6   Marital_Status                                                                                                                      10127 non-null  object \n",
            " 7   Income_Category                                                                                                                     10127 non-null  object \n",
            " 8   Card_Category                                                                                                                       10127 non-null  object \n",
            " 9   Months_on_book                                                                                                                      10127 non-null  int64  \n",
            " 10  Total_Relationship_Count                                                                                                            10127 non-null  int64  \n",
            " 11  Months_Inactive_12_mon                                                                                                              10127 non-null  int64  \n",
            " 12  Contacts_Count_12_mon                                                                                                               10127 non-null  int64  \n",
            " 13  Credit_Limit                                                                                                                        10127 non-null  float64\n",
            " 14  Total_Revolving_Bal                                                                                                                 10127 non-null  int64  \n",
            " 15  Avg_Open_To_Buy                                                                                                                     10127 non-null  float64\n",
            " 16  Total_Amt_Chng_Q4_Q1                                                                                                                10127 non-null  float64\n",
            " 17  Total_Trans_Amt                                                                                                                     10127 non-null  int64  \n",
            " 18  Total_Trans_Ct                                                                                                                      10127 non-null  int64  \n",
            " 19  Total_Ct_Chng_Q4_Q1                                                                                                                 10127 non-null  float64\n",
            " 20  Avg_Utilization_Ratio                                                                                                               10127 non-null  float64\n",
            " 21  Naive_Bayes_Classifier_Attrition_Flag_Card_Category_Contacts_Count_12_mon_Dependent_count_Education_Level_Months_Inactive_12_mon_1  10127 non-null  float64\n",
            " 22  Naive_Bayes_Classifier_Attrition_Flag_Card_Category_Contacts_Count_12_mon_Dependent_count_Education_Level_Months_Inactive_12_mon_2  10127 non-null  float64\n",
            "dtypes: float64(7), int64(10), object(6)\n",
            "memory usage: 1.8+ MB\n"
          ]
        }
      ]
    },
    {
      "cell_type": "code",
      "source": [
        "#verifying the columns were dropped. \n",
        "df_2_ml.info()"
      ],
      "metadata": {
        "id": "5-fuzK6HNEGp",
        "colab": {
          "base_uri": "https://localhost:8080/"
        },
        "outputId": "1c38dd84-8a5b-40b3-cac7-7533b5f24beb"
      },
      "execution_count": 113,
      "outputs": [
        {
          "output_type": "stream",
          "name": "stdout",
          "text": [
            "<class 'pandas.core.frame.DataFrame'>\n",
            "RangeIndex: 10127 entries, 0 to 10126\n",
            "Data columns (total 21 columns):\n",
            " #   Column                    Non-Null Count  Dtype  \n",
            "---  ------                    --------------  -----  \n",
            " 0   CLIENTNUM                 10127 non-null  int64  \n",
            " 1   Attrition_Flag            10127 non-null  object \n",
            " 2   Customer_Age              10127 non-null  int64  \n",
            " 3   Gender                    10127 non-null  object \n",
            " 4   Dependent_count           10127 non-null  int64  \n",
            " 5   Education_Level           10127 non-null  object \n",
            " 6   Marital_Status            10127 non-null  object \n",
            " 7   Income_Category           10127 non-null  object \n",
            " 8   Card_Category             10127 non-null  object \n",
            " 9   Months_on_book            10127 non-null  int64  \n",
            " 10  Total_Relationship_Count  10127 non-null  int64  \n",
            " 11  Months_Inactive_12_mon    10127 non-null  int64  \n",
            " 12  Contacts_Count_12_mon     10127 non-null  int64  \n",
            " 13  Credit_Limit              10127 non-null  float64\n",
            " 14  Total_Revolving_Bal       10127 non-null  int64  \n",
            " 15  Avg_Open_To_Buy           10127 non-null  float64\n",
            " 16  Total_Amt_Chng_Q4_Q1      10127 non-null  float64\n",
            " 17  Total_Trans_Amt           10127 non-null  int64  \n",
            " 18  Total_Trans_Ct            10127 non-null  int64  \n",
            " 19  Total_Ct_Chng_Q4_Q1       10127 non-null  float64\n",
            " 20  Avg_Utilization_Ratio     10127 non-null  float64\n",
            "dtypes: float64(5), int64(10), object(6)\n",
            "memory usage: 1.6+ MB\n"
          ]
        }
      ]
    },
    {
      "cell_type": "code",
      "source": [
        "#Here I can search for duplicate values. I can see there are none.\n",
        "print(df_2_ml.duplicated().value_counts())"
      ],
      "metadata": {
        "id": "flO4SDiQyszr",
        "colab": {
          "base_uri": "https://localhost:8080/"
        },
        "outputId": "e29886cc-cf67-4fc6-a72c-947d9d127503"
      },
      "execution_count": 114,
      "outputs": [
        {
          "output_type": "stream",
          "name": "stdout",
          "text": [
            "False    10127\n",
            "dtype: int64\n"
          ]
        }
      ]
    },
    {
      "cell_type": "code",
      "source": [
        "#Here I can verify all the data values in the Objects columns are correct and there are no inconsistent values. \n",
        "\n",
        "print(df_2_ml['Attrition_Flag'].value_counts())\n",
        "print(df_2_ml['Gender'].value_counts())\n",
        "print(df_2_ml['Education_Level'].value_counts())\n",
        "print(df_2_ml['Marital_Status'].value_counts())\n",
        "print(df_2_ml['Income_Category'].value_counts())\n",
        "print(df_2_ml['Card_Category'].value_counts())"
      ],
      "metadata": {
        "id": "QLlAph3cXhTQ",
        "colab": {
          "base_uri": "https://localhost:8080/"
        },
        "outputId": "c81bcb7d-135b-4e27-ca11-7e880bd0ba20"
      },
      "execution_count": 115,
      "outputs": [
        {
          "output_type": "stream",
          "name": "stdout",
          "text": [
            "Existing Customer    8500\n",
            "Attrited Customer    1627\n",
            "Name: Attrition_Flag, dtype: int64\n",
            "F    5358\n",
            "M    4769\n",
            "Name: Gender, dtype: int64\n",
            "Graduate         3128\n",
            "High School      2013\n",
            "Unknown          1519\n",
            "Uneducated       1487\n",
            "College          1013\n",
            "Post-Graduate     516\n",
            "Doctorate         451\n",
            "Name: Education_Level, dtype: int64\n",
            "Married     4687\n",
            "Single      3943\n",
            "Unknown      749\n",
            "Divorced     748\n",
            "Name: Marital_Status, dtype: int64\n",
            "Less than $40K    3561\n",
            "$40K - $60K       1790\n",
            "$80K - $120K      1535\n",
            "$60K - $80K       1402\n",
            "Unknown           1112\n",
            "$120K +            727\n",
            "Name: Income_Category, dtype: int64\n",
            "Blue        9436\n",
            "Silver       555\n",
            "Gold         116\n",
            "Platinum      20\n",
            "Name: Card_Category, dtype: int64\n"
          ]
        }
      ]
    },
    {
      "cell_type": "code",
      "source": [
        "df_2_ml.boxplot(column = 'CLIENTNUM');"
      ],
      "metadata": {
        "id": "eaGm5c2lJ7qk",
        "colab": {
          "base_uri": "https://localhost:8080/",
          "height": 0
        },
        "outputId": "a4cafcef-9afd-49b2-c10d-3ab9e53ddb4c"
      },
      "execution_count": 116,
      "outputs": [
        {
          "output_type": "display_data",
          "data": {
            "text/plain": [
              "<Figure size 432x288 with 1 Axes>"
            ],
            "image/png": "[encoded data removed]"
          },
          "metadata": {
            "needs_background": "light"
          }
        }
      ]
    },
    {
      "cell_type": "code",
      "source": [
        "df_2_ml.boxplot(column = 'Customer_Age');"
      ],
      "metadata": {
        "id": "nesuydsXJ76E",
        "colab": {
          "base_uri": "https://localhost:8080/",
          "height": 0
        },
        "outputId": "d40e4872-df60-4409-8a31-bc48f0713abb"
      },
      "execution_count": 117,
      "outputs": [
        {
          "output_type": "display_data",
          "data": {
            "text/plain": [
              "<Figure size 432x288 with 1 Axes>"
            ],
            "image/png": "[encoded data removed]"
          },
          "metadata": {
            "needs_background": "light"
          }
        }
      ]
    },
    {
      "cell_type": "code",
      "source": [
        "df_2_ml.boxplot(column = 'Dependent_count');"
      ],
      "metadata": {
        "id": "K-pA3l3GJ8Fz",
        "colab": {
          "base_uri": "https://localhost:8080/",
          "height": 0
        },
        "outputId": "1cc028d6-f2bd-42f1-e67b-bd3b77cf70a8"
      },
      "execution_count": 118,
      "outputs": [
        {
          "output_type": "display_data",
          "data": {
            "text/plain": [
              "<Figure size 432x288 with 1 Axes>"
            ],
            "image/png": "[encoded data removed]"
          },
          "metadata": {
            "needs_background": "light"
          }
        }
      ]
    },
    {
      "cell_type": "code",
      "source": [
        "df_2_ml.boxplot(column = 'Months_on_book');"
      ],
      "metadata": {
        "id": "aM7s52e6J8Si",
        "colab": {
          "base_uri": "https://localhost:8080/",
          "height": 0
        },
        "outputId": "1dec7f6f-2eec-4330-bdd6-befa918291cc"
      },
      "execution_count": 119,
      "outputs": [
        {
          "output_type": "display_data",
          "data": {
            "text/plain": [
              "<Figure size 432x288 with 1 Axes>"
            ],
            "image/png": "[encoded data removed]"
          },
          "metadata": {
            "needs_background": "light"
          }
        }
      ]
    },
    {
      "cell_type": "code",
      "source": [
        "df_2_ml.boxplot(column = 'Total_Relationship_Count');"
      ],
      "metadata": {
        "id": "Qv5H2bUkJ8eR",
        "colab": {
          "base_uri": "https://localhost:8080/",
          "height": 0
        },
        "outputId": "d2c9344a-fc70-4437-c51b-51fea5a24ea3"
      },
      "execution_count": 120,
      "outputs": [
        {
          "output_type": "display_data",
          "data": {
            "text/plain": [
              "<Figure size 432x288 with 1 Axes>"
            ],
            "image/png": "[encoded data removed]"
          },
          "metadata": {
            "needs_background": "light"
          }
        }
      ]
    },
    {
      "cell_type": "code",
      "source": [
        "df_2_ml.boxplot(column = 'Months_Inactive_12_mon');"
      ],
      "metadata": {
        "id": "K0z7utMOJ8ph",
        "colab": {
          "base_uri": "https://localhost:8080/",
          "height": 0
        },
        "outputId": "6de6811d-fc6f-405c-83d8-6a9a6d468ece"
      },
      "execution_count": 121,
      "outputs": [
        {
          "output_type": "display_data",
          "data": {
            "text/plain": [
              "<Figure size 432x288 with 1 Axes>"
            ],
            "image/png": "[encoded data removed]"
          },
          "metadata": {
            "needs_background": "light"
          }
        }
      ]
    },
    {
      "cell_type": "code",
      "source": [
        "df_2_ml.boxplot(column = 'Contacts_Count_12_mon');"
      ],
      "metadata": {
        "id": "4eafFN3NJ80y",
        "colab": {
          "base_uri": "https://localhost:8080/",
          "height": 0
        },
        "outputId": "f4dd71c4-36ac-460a-fa33-0014e44bc9b5"
      },
      "execution_count": 122,
      "outputs": [
        {
          "output_type": "display_data",
          "data": {
            "text/plain": [
              "<Figure size 432x288 with 1 Axes>"
            ],
            "image/png": "[encoded data removed]"
          },
          "metadata": {
            "needs_background": "light"
          }
        }
      ]
    },
    {
      "cell_type": "code",
      "source": [
        "df_2_ml.boxplot(column = 'Total_Revolving_Bal');"
      ],
      "metadata": {
        "id": "Fe5HnEzfJ9AD",
        "colab": {
          "base_uri": "https://localhost:8080/",
          "height": 0
        },
        "outputId": "dfc66124-cb7e-4eec-940a-80970e060c6e"
      },
      "execution_count": 123,
      "outputs": [
        {
          "output_type": "display_data",
          "data": {
            "text/plain": [
              "<Figure size 432x288 with 1 Axes>"
            ],
            "image/png": "[encoded data removed]"
          },
          "metadata": {
            "needs_background": "light"
          }
        }
      ]
    },
    {
      "cell_type": "code",
      "source": [
        "df_2_ml.boxplot(column = 'Avg_Open_To_Buy');"
      ],
      "metadata": {
        "id": "7UaIj-0hJ9Lh",
        "colab": {
          "base_uri": "https://localhost:8080/",
          "height": 0
        },
        "outputId": "d4f09c72-9e8a-4476-9b07-91f7808c8314"
      },
      "execution_count": 124,
      "outputs": [
        {
          "output_type": "display_data",
          "data": {
            "text/plain": [
              "<Figure size 432x288 with 1 Axes>"
            ],
            "image/png": "[encoded data removed]"
          },
          "metadata": {
            "needs_background": "light"
          }
        }
      ]
    },
    {
      "cell_type": "code",
      "source": [
        "df_2_ml.boxplot(column = 'Total_Amt_Chng_Q4_Q1');"
      ],
      "metadata": {
        "id": "xeFCbpgaJ9Wh",
        "colab": {
          "base_uri": "https://localhost:8080/",
          "height": 0
        },
        "outputId": "23af3855-a6a9-4429-dadc-dc6c36a13b15"
      },
      "execution_count": 125,
      "outputs": [
        {
          "output_type": "display_data",
          "data": {
            "text/plain": [
              "<Figure size 432x288 with 1 Axes>"
            ],
            "image/png": "[encoded data removed]"
          },
          "metadata": {
            "needs_background": "light"
          }
        }
      ]
    },
    {
      "cell_type": "code",
      "source": [
        "df_2_ml.boxplot(column = 'Total_Trans_Amt');"
      ],
      "metadata": {
        "id": "ZUh7gfJ9K9NG",
        "colab": {
          "base_uri": "https://localhost:8080/",
          "height": 0
        },
        "outputId": "28041ab0-099f-4f93-bd87-321a60aaee68"
      },
      "execution_count": 126,
      "outputs": [
        {
          "output_type": "display_data",
          "data": {
            "text/plain": [
              "<Figure size 432x288 with 1 Axes>"
            ],
            "image/png": "[encoded data removed]"
          },
          "metadata": {
            "needs_background": "light"
          }
        }
      ]
    },
    {
      "cell_type": "code",
      "source": [
        "df_2_ml.boxplot(column = 'Total_Trans_Ct');"
      ],
      "metadata": {
        "id": "sDgW-S5wK9Vw",
        "colab": {
          "base_uri": "https://localhost:8080/",
          "height": 0
        },
        "outputId": "e770e6c2-94f6-431b-9d12-465f652476ea"
      },
      "execution_count": 127,
      "outputs": [
        {
          "output_type": "display_data",
          "data": {
            "text/plain": [
              "<Figure size 432x288 with 1 Axes>"
            ],
            "image/png": "[encoded data removed]"
          },
          "metadata": {
            "needs_background": "light"
          }
        }
      ]
    },
    {
      "cell_type": "code",
      "source": [
        "df_2_ml.boxplot(column = 'Total_Ct_Chng_Q4_Q1');"
      ],
      "metadata": {
        "id": "goLj59x2K9eV",
        "colab": {
          "base_uri": "https://localhost:8080/",
          "height": 0
        },
        "outputId": "06dc6fc1-4c26-4a2b-ef2b-e1b2a0d1b13e"
      },
      "execution_count": 128,
      "outputs": [
        {
          "output_type": "display_data",
          "data": {
            "text/plain": [
              "<Figure size 432x288 with 1 Axes>"
            ],
            "image/png": "[encoded data removed]"
          },
          "metadata": {
            "needs_background": "light"
          }
        }
      ]
    },
    {
      "cell_type": "code",
      "source": [
        "df_2_ml.boxplot(column = 'Avg_Utilization_Ratio');"
      ],
      "metadata": {
        "id": "cAsIm9I0L178",
        "colab": {
          "base_uri": "https://localhost:8080/",
          "height": 0
        },
        "outputId": "7528e86e-9ec5-4e98-f9e6-5eeb26a1284b"
      },
      "execution_count": 129,
      "outputs": [
        {
          "output_type": "display_data",
          "data": {
            "text/plain": [
              "<Figure size 432x288 with 1 Axes>"
            ],
            "image/png": "[encoded data removed]"
          },
          "metadata": {
            "needs_background": "light"
          }
        }
      ]
    },
    {
      "cell_type": "code",
      "source": [
        "\n",
        "cat_selector2 = make_column_selector(dtype_include='object')\n",
        "num_selector2 = make_column_selector(dtype_include='number')\n",
        "\n",
        "\n",
        "num_tuple2 = (scaler, num_selector2)\n",
        "cat_tuple2 = (ohe, cat_selector2)\n",
        "\n",
        "processor2 = make_column_transformer(num_tuple2,cat_tuple2)\n",
        "processor.fit(df_2_ml)\n",
        "array_processed2 = processor.transform(df_2_ml)\n",
        "df_processed2 = pd.DataFrame(array_processed)\n",
        "df_processed2.head()"
      ],
      "metadata": {
        "id": "Q7I__mkHiYii",
        "colab": {
          "base_uri": "https://localhost:8080/",
          "height": 0
        },
        "outputId": "795d58e8-8d46-4def-cfd4-af605d69af42"
      },
      "execution_count": 130,
      "outputs": [
        {
          "output_type": "execute_result",
          "data": {
            "text/plain": [
              "         0         1    2    3    4    5    6    7    8    9   ...   82   83  \\\n",
              "0 -1.197259 -0.034087  0.0  1.0  0.0  0.0  0.0  0.0  1.0  0.0  ...  0.0  0.0   \n",
              "1 -0.419335  0.772930  1.0  0.0  0.0  0.0  0.0  0.0  1.0  0.0  ...  0.0  0.0   \n",
              "2  0.747550 -0.034087  0.0  1.0  0.0  0.0  1.0  0.0  0.0  0.0  ...  0.0  0.0   \n",
              "3 -0.030373 -0.034087  1.0  0.0  0.0  0.0  0.0  0.0  1.0  0.0  ...  0.0  0.0   \n",
              "4 -0.030373 -0.841104  0.0  1.0  1.0  0.0  0.0  0.0  0.0  0.0  ...  0.0  0.0   \n",
              "\n",
              "    84   85   86   87   88   89   90   91  \n",
              "0  0.0  0.0  0.0  1.0  0.0  0.0  1.0  0.0  \n",
              "1  0.0  0.0  0.0  1.0  0.0  0.0  1.0  0.0  \n",
              "2  0.0  0.0  0.0  1.0  0.0  0.0  0.0  1.0  \n",
              "3  0.0  0.0  0.0  1.0  0.0  0.0  0.0  1.0  \n",
              "4  0.0  0.0  0.0  1.0  0.0  0.0  1.0  0.0  \n",
              "\n",
              "[5 rows x 92 columns]"
            ],
            "text/html": [
              "\n",
              "  <div id=\"df-9047c772-310e-452f-8696-2a27eb3c5f57\">\n",
              "    <div class=\"colab-df-container\">\n",
              "      <div>\n",
              "<style scoped>\n",
              "    .dataframe tbody tr th:only-of-type {\n",
              "        vertical-align: middle;\n",
              "    }\n",
              "\n",
              "    .dataframe tbody tr th {\n",
              "        vertical-align: top;\n",
              "    }\n",
              "\n",
              "    .dataframe thead th {\n",
              "        text-align: right;\n",
              "    }\n",
              "</style>\n",
              "<table border=\"1\" class=\"dataframe\">\n",
              "  <thead>\n",
              "    <tr style=\"text-align: right;\">\n",
              "      <th></th>\n",
              "      <th>0</th>\n",
              "      <th>1</th>\n",
              "      <th>2</th>\n",
              "      <th>3</th>\n",
              "      <th>4</th>\n",
              "      <th>5</th>\n",
              "      <th>6</th>\n",
              "      <th>7</th>\n",
              "      <th>8</th>\n",
              "      <th>9</th>\n",
              "      <th>...</th>\n",
              "      <th>82</th>\n",
              "      <th>83</th>\n",
              "      <th>84</th>\n",
              "      <th>85</th>\n",
              "      <th>86</th>\n",
              "      <th>87</th>\n",
              "      <th>88</th>\n",
              "      <th>89</th>\n",
              "      <th>90</th>\n",
              "      <th>91</th>\n",
              "    </tr>\n",
              "  </thead>\n",
              "  <tbody>\n",
              "    <tr>\n",
              "      <th>0</th>\n",
              "      <td>-1.197259</td>\n",
              "      <td>-0.034087</td>\n",
              "      <td>0.0</td>\n",
              "      <td>1.0</td>\n",
              "      <td>0.0</td>\n",
              "      <td>0.0</td>\n",
              "      <td>0.0</td>\n",
              "      <td>0.0</td>\n",
              "      <td>1.0</td>\n",
              "      <td>0.0</td>\n",
              "      <td>...</td>\n",
              "      <td>0.0</td>\n",
              "      <td>0.0</td>\n",
              "      <td>0.0</td>\n",
              "      <td>0.0</td>\n",
              "      <td>0.0</td>\n",
              "      <td>1.0</td>\n",
              "      <td>0.0</td>\n",
              "      <td>0.0</td>\n",
              "      <td>1.0</td>\n",
              "      <td>0.0</td>\n",
              "    </tr>\n",
              "    <tr>\n",
              "      <th>1</th>\n",
              "      <td>-0.419335</td>\n",
              "      <td>0.772930</td>\n",
              "      <td>1.0</td>\n",
              "      <td>0.0</td>\n",
              "      <td>0.0</td>\n",
              "      <td>0.0</td>\n",
              "      <td>0.0</td>\n",
              "      <td>0.0</td>\n",
              "      <td>1.0</td>\n",
              "      <td>0.0</td>\n",
              "      <td>...</td>\n",
              "      <td>0.0</td>\n",
              "      <td>0.0</td>\n",
              "      <td>0.0</td>\n",
              "      <td>0.0</td>\n",
              "      <td>0.0</td>\n",
              "      <td>1.0</td>\n",
              "      <td>0.0</td>\n",
              "      <td>0.0</td>\n",
              "      <td>1.0</td>\n",
              "      <td>0.0</td>\n",
              "    </tr>\n",
              "    <tr>\n",
              "      <th>2</th>\n",
              "      <td>0.747550</td>\n",
              "      <td>-0.034087</td>\n",
              "      <td>0.0</td>\n",
              "      <td>1.0</td>\n",
              "      <td>0.0</td>\n",
              "      <td>0.0</td>\n",
              "      <td>1.0</td>\n",
              "      <td>0.0</td>\n",
              "      <td>0.0</td>\n",
              "      <td>0.0</td>\n",
              "      <td>...</td>\n",
              "      <td>0.0</td>\n",
              "      <td>0.0</td>\n",
              "      <td>0.0</td>\n",
              "      <td>0.0</td>\n",
              "      <td>0.0</td>\n",
              "      <td>1.0</td>\n",
              "      <td>0.0</td>\n",
              "      <td>0.0</td>\n",
              "      <td>0.0</td>\n",
              "      <td>1.0</td>\n",
              "    </tr>\n",
              "    <tr>\n",
              "      <th>3</th>\n",
              "      <td>-0.030373</td>\n",
              "      <td>-0.034087</td>\n",
              "      <td>1.0</td>\n",
              "      <td>0.0</td>\n",
              "      <td>0.0</td>\n",
              "      <td>0.0</td>\n",
              "      <td>0.0</td>\n",
              "      <td>0.0</td>\n",
              "      <td>1.0</td>\n",
              "      <td>0.0</td>\n",
              "      <td>...</td>\n",
              "      <td>0.0</td>\n",
              "      <td>0.0</td>\n",
              "      <td>0.0</td>\n",
              "      <td>0.0</td>\n",
              "      <td>0.0</td>\n",
              "      <td>1.0</td>\n",
              "      <td>0.0</td>\n",
              "      <td>0.0</td>\n",
              "      <td>0.0</td>\n",
              "      <td>1.0</td>\n",
              "    </tr>\n",
              "    <tr>\n",
              "      <th>4</th>\n",
              "      <td>-0.030373</td>\n",
              "      <td>-0.841104</td>\n",
              "      <td>0.0</td>\n",
              "      <td>1.0</td>\n",
              "      <td>1.0</td>\n",
              "      <td>0.0</td>\n",
              "      <td>0.0</td>\n",
              "      <td>0.0</td>\n",
              "      <td>0.0</td>\n",
              "      <td>0.0</td>\n",
              "      <td>...</td>\n",
              "      <td>0.0</td>\n",
              "      <td>0.0</td>\n",
              "      <td>0.0</td>\n",
              "      <td>0.0</td>\n",
              "      <td>0.0</td>\n",
              "      <td>1.0</td>\n",
              "      <td>0.0</td>\n",
              "      <td>0.0</td>\n",
              "      <td>1.0</td>\n",
              "      <td>0.0</td>\n",
              "    </tr>\n",
              "  </tbody>\n",
              "</table>\n",
              "<p>5 rows × 92 columns</p>\n",
              "</div>\n",
              "      <button class=\"colab-df-convert\" onclick=\"convertToInteractive('df-9047c772-310e-452f-8696-2a27eb3c5f57')\"\n",
              "              title=\"Convert this dataframe to an interactive table.\"\n",
              "              style=\"display:none;\">\n",
              "        \n",
              "  <svg xmlns=\"http://www.w3.org/2000/svg\" height=\"24px\"viewBox=\"0 0 24 24\"\n",
              "       width=\"24px\">\n",
              "    <path d=\"M0 0h24v24H0V0z\" fill=\"none\"/>\n",
              "    <path d=\"M18.56 5.44l.94 2.06.94-2.06 2.06-.94-2.06-.94-.94-2.06-.94 2.06-2.06.94zm-11 1L8.5 8.5l.94-2.06 2.06-.94-2.06-.94L8.5 2.5l-.94 2.06-2.06.94zm10 10l.94 2.06.94-2.06 2.06-.94-2.06-.94-.94-2.06-.94 2.06-2.06.94z\"/><path d=\"M17.41 7.96l-1.37-1.37c-.4-.4-.92-.59-1.43-.59-.52 0-1.04.2-1.43.59L10.3 9.45l-7.72 7.72c-.78.78-.78 2.05 0 2.83L4 21.41c.39.39.9.59 1.41.59.51 0 1.02-.2 1.41-.59l7.78-7.78 2.81-2.81c.8-.78.8-2.07 0-2.86zM5.41 20L4 18.59l7.72-7.72 1.47 1.35L5.41 20z\"/>\n",
              "  </svg>\n",
              "      </button>\n",
              "      \n",
              "  <style>\n",
              "    .colab-df-container {\n",
              "      display:flex;\n",
              "      flex-wrap:wrap;\n",
              "      gap: 12px;\n",
              "    }\n",
              "\n",
              "    .colab-df-convert {\n",
              "      background-color: #E8F0FE;\n",
              "      border: none;\n",
              "      border-radius: 50%;\n",
              "      cursor: pointer;\n",
              "      display: none;\n",
              "      fill: #1967D2;\n",
              "      height: 32px;\n",
              "      padding: 0 0 0 0;\n",
              "      width: 32px;\n",
              "    }\n",
              "\n",
              "    .colab-df-convert:hover {\n",
              "      background-color: #E2EBFA;\n",
              "      box-shadow: 0px 1px 2px rgba(60, 64, 67, 0.3), 0px 1px 3px 1px rgba(60, 64, 67, 0.15);\n",
              "      fill: #174EA6;\n",
              "    }\n",
              "\n",
              "    [theme=dark] .colab-df-convert {\n",
              "      background-color: #3B4455;\n",
              "      fill: #D2E3FC;\n",
              "    }\n",
              "\n",
              "    [theme=dark] .colab-df-convert:hover {\n",
              "      background-color: #434B5C;\n",
              "      box-shadow: 0px 1px 3px 1px rgba(0, 0, 0, 0.15);\n",
              "      filter: drop-shadow(0px 1px 2px rgba(0, 0, 0, 0.3));\n",
              "      fill: #FFFFFF;\n",
              "    }\n",
              "  </style>\n",
              "\n",
              "      <script>\n",
              "        const buttonEl =\n",
              "          document.querySelector('#df-9047c772-310e-452f-8696-2a27eb3c5f57 button.colab-df-convert');\n",
              "        buttonEl.style.display =\n",
              "          google.colab.kernel.accessAllowed ? 'block' : 'none';\n",
              "\n",
              "        async function convertToInteractive(key) {\n",
              "          const element = document.querySelector('#df-9047c772-310e-452f-8696-2a27eb3c5f57');\n",
              "          const dataTable =\n",
              "            await google.colab.kernel.invokeFunction('convertToInteractive',\n",
              "                                                     [key], {});\n",
              "          if (!dataTable) return;\n",
              "\n",
              "          const docLinkHtml = 'Like what you see? Visit the ' +\n",
              "            '<a target=\"_blank\" href=https://colab.research.google.com/notebooks/data_table.ipynb>data table notebook</a>'\n",
              "            + ' to learn more about interactive tables.';\n",
              "          element.innerHTML = '';\n",
              "          dataTable['output_type'] = 'display_data';\n",
              "          await google.colab.output.renderOutput(dataTable, element);\n",
              "          const docLink = document.createElement('div');\n",
              "          docLink.innerHTML = docLinkHtml;\n",
              "          element.appendChild(docLink);\n",
              "        }\n",
              "      </script>\n",
              "    </div>\n",
              "  </div>\n",
              "  "
            ]
          },
          "metadata": {},
          "execution_count": 130
        }
      ]
    },
    {
      "cell_type": "code",
      "source": [
        "corr_2_ml = df_processed2.corr()\n",
        "fig, ax = plt.subplots(figsize=(30,30))\n",
        "sns.heatmap(corr_2_ml, cmap = \"Oranges\");"
      ],
      "metadata": {
        "id": "-24wl8eoMBFo",
        "colab": {
          "base_uri": "https://localhost:8080/",
          "height": 0
        },
        "outputId": "3db6a92d-e88c-4af5-d1db-363da2aacbfd"
      },
      "execution_count": 131,
      "outputs": [
        {
          "output_type": "display_data",
          "data": {
            "text/plain": [
              "<Figure size 2160x2160 with 2 Axes>"
            ],
            "image/png": "[encoded data removed]"
          },
          "metadata": {
            "needs_background": "light"
          }
        }
      ]
    },
    {
      "cell_type": "markdown",
      "source": [
        "Upon review of the heat map you can clearly see that there are some data points where a high correlation was found. More code need to be written to lable the x and y axis data points so I can identify what these are in my data set. I will have to inquiry how to do this in code review as TA's are off today. "
      ],
      "metadata": {
        "id": "EDizktGtNKm9"
      }
    }
  ]
}